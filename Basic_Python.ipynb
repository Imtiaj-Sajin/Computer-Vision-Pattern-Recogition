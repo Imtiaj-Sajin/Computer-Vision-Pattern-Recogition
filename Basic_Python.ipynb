{
  "nbformat": 4,
  "nbformat_minor": 0,
  "metadata": {
    "colab": {
      "provenance": [],
      "authorship_tag": "ABX9TyNk7hsXlnR5KDbZ3eDCHT2p",
      "include_colab_link": true
    },
    "kernelspec": {
      "name": "python3",
      "display_name": "Python 3"
    },
    "language_info": {
      "name": "python"
    }
  },
  "cells": [
    {
      "cell_type": "markdown",
      "metadata": {
        "id": "view-in-github",
        "colab_type": "text"
      },
      "source": [
        "<a href=\"https://colab.research.google.com/github/Imtiaj-Sajin/Computer-Vision-Pattern-Recogition/blob/main/Basic_Python.ipynb\" target=\"_parent\"><img src=\"https://colab.research.google.com/assets/colab-badge.svg\" alt=\"Open In Colab\"/></a>"
      ]
    },
    {
      "cell_type": "markdown",
      "source": [
        "# Basic Programming\n",
        "**Types** **bold text**"
      ],
      "metadata": {
        "id": "mJ5AvW9CgpdG"
      }
    },
    {
      "cell_type": "code",
      "execution_count": null,
      "metadata": {
        "colab": {
          "base_uri": "https://localhost:8080/"
        },
        "id": "_-vL5lDQgMi6",
        "outputId": "04303440-9cc8-4e2d-a20f-98a07a568f64"
      },
      "outputs": [
        {
          "output_type": "stream",
          "name": "stdout",
          "text": [
            "<class 'float'>\n",
            "<class 'int'>\n",
            "9\n",
            "False\n",
            "True\n"
          ]
        }
      ],
      "source": [
        "x=4.5\n",
        "print(type(x))\n",
        "x=3\n",
        "print(type(x))\n",
        "print(x**2)\n",
        "\n",
        "\n",
        "#booleans\n",
        "t=True\n",
        "f=False\n",
        "print(not t)\n",
        "print(t!=f)"
      ]
    },
    {
      "cell_type": "markdown",
      "source": [
        "**Sting**"
      ],
      "metadata": {
        "id": "xbCLZPrYvKym"
      }
    },
    {
      "cell_type": "code",
      "source": [
        "print(\"\"\"Print\n",
        "multiple\n",
        "Lines\"\"\")"
      ],
      "metadata": {
        "colab": {
          "base_uri": "https://localhost:8080/"
        },
        "id": "SJsQuYaEvQcw",
        "outputId": "48080e5c-7476-4acb-81fe-677143c381a8"
      },
      "execution_count": null,
      "outputs": [
        {
          "output_type": "stream",
          "name": "stdout",
          "text": [
            "Print \n",
            "multiple\n",
            "Lines\n"
          ]
        }
      ]
    },
    {
      "cell_type": "code",
      "source": [
        "a=10\n",
        "print(f'Value of A is {a}')\n",
        "print(f\"What's Going on {a,a,a}\")"
      ],
      "metadata": {
        "colab": {
          "base_uri": "https://localhost:8080/"
        },
        "id": "JY3uHicUvVUl",
        "outputId": "c67189e1-f874-4e36-d4ef-8b120fd8e3e2"
      },
      "execution_count": null,
      "outputs": [
        {
          "output_type": "stream",
          "name": "stdout",
          "text": [
            "Value of A is 10\n",
            "What's Going on (10, 10, 10)\n"
          ]
        }
      ]
    },
    {
      "cell_type": "markdown",
      "source": [
        "**Condition**"
      ],
      "metadata": {
        "id": "rQvu8O3xzYNo"
      }
    },
    {
      "cell_type": "code",
      "source": [
        "b=5\n",
        "if(a>b):\n",
        "  print(f\"{a} is greater than {b}\")\n",
        "  print(f'print kar de {b} ko')\n",
        "else:\n",
        "  print(\"anything\")"
      ],
      "metadata": {
        "colab": {
          "base_uri": "https://localhost:8080/"
        },
        "id": "VKYOyJGWzq5P",
        "outputId": "f79c0fa1-8f0f-4ba0-b18d-0275861984e9"
      },
      "execution_count": null,
      "outputs": [
        {
          "output_type": "stream",
          "name": "stdout",
          "text": [
            "10 is greater than 5\n",
            "print kar de 5 ko\n"
          ]
        }
      ]
    },
    {
      "cell_type": "markdown",
      "source": [
        "**Loping**"
      ],
      "metadata": {
        "id": "q6fBT7Dp1Hsv"
      }
    },
    {
      "cell_type": "code",
      "source": [
        "for x in range(1,10):\n",
        "  print(x)"
      ],
      "metadata": {
        "colab": {
          "base_uri": "https://localhost:8080/"
        },
        "id": "IgemUIwO01aO",
        "outputId": "67510e7c-d292-4617-a1ca-fc73653d7597"
      },
      "execution_count": null,
      "outputs": [
        {
          "output_type": "stream",
          "name": "stdout",
          "text": [
            "1\n",
            "3\n",
            "5\n",
            "7\n",
            "9\n"
          ]
        }
      ]
    },
    {
      "cell_type": "code",
      "source": [
        "for i in range(10,1,-1):\n",
        "  print(i)"
      ],
      "metadata": {
        "id": "aMN3ku2v2WWV"
      },
      "execution_count": null,
      "outputs": []
    },
    {
      "cell_type": "markdown",
      "source": [
        "# **List-Touples**"
      ],
      "metadata": {
        "id": "zHL1vZ84OpmT"
      }
    },
    {
      "cell_type": "code",
      "source": [
        "l=[1,2.3,3,'sdd','f']\n",
        "t=(4,1,3.4,'d','s')\n",
        "\n",
        "print(l)\n",
        "print(t)\n",
        "print()\n",
        "print(t[3],t[-3])"
      ],
      "metadata": {
        "colab": {
          "base_uri": "https://localhost:8080/"
        },
        "id": "TrhABZCuPBMG",
        "outputId": "071c53bd-c869-480c-8e55-9bdeea990836"
      },
      "execution_count": null,
      "outputs": [
        {
          "output_type": "stream",
          "name": "stdout",
          "text": [
            "[1, 2.3, 3, 'sdd', 'f']\n",
            "(4, 1, 3.4, 'd', 's')\n",
            "\n",
            "d 3.4\n"
          ]
        }
      ]
    },
    {
      "cell_type": "code",
      "source": [
        "for i in t:\n",
        "  print(i)\n",
        "\n",
        "for i,v in enumerate(l):\n",
        "  print(f\"{i}:{v}\")"
      ],
      "metadata": {
        "colab": {
          "base_uri": "https://localhost:8080/"
        },
        "id": "Y2-icvLuQtf6",
        "outputId": "2646de2b-2267-43c6-bb87-253c67c86664"
      },
      "execution_count": null,
      "outputs": [
        {
          "output_type": "stream",
          "name": "stdout",
          "text": [
            "4\n",
            "1\n",
            "3.4\n",
            "d\n",
            "s\n",
            "0:1\n",
            "1:2.3\n",
            "2:3\n",
            "3:sdd\n",
            "4:f\n"
          ]
        }
      ]
    },
    {
      "cell_type": "code",
      "source": [
        "c=[]\n",
        "c.append('a')\n",
        "c.append('b')\n",
        "c.append('4')\n",
        "c.append('asdf')\n",
        "c.append('3.5b')\n",
        "c.append('b')\n",
        "\n",
        "print(c)\n",
        "\n",
        "c.insert(1,'a0')\n",
        "\n",
        "print(c)\n",
        "c.remove('b')\n",
        "print(c)\n",
        "\n",
        "del c[0]\n",
        "print(c)"
      ],
      "metadata": {
        "colab": {
          "base_uri": "https://localhost:8080/"
        },
        "id": "gQcytjHr3OYx",
        "outputId": "ee4e062e-2ca0-4a64-c974-80267d59ec40"
      },
      "execution_count": null,
      "outputs": [
        {
          "output_type": "stream",
          "name": "stdout",
          "text": [
            "['a', 'b', '4', 'asdf', '3.5b', 'b']\n",
            "['a', 'a0', 'b', '4', 'asdf', '3.5b', 'b']\n",
            "['a', 'a0', '4', 'asdf', '3.5b', 'b']\n",
            "['a0', '4', 'asdf', '3.5b', 'b']\n"
          ]
        }
      ]
    },
    {
      "cell_type": "code",
      "source": [
        "#List of List\n",
        "ListOfList=[[1,2.3,'fpa',4],[4,5.4,34,],['Two','One']]\n",
        "\n",
        "print(ListOfList)\n",
        "print(ListOfList)"
      ],
      "metadata": {
        "colab": {
          "base_uri": "https://localhost:8080/"
        },
        "id": "diMrmlll-AUY",
        "outputId": "daf383d3-5113-49b9-d3af-f00939661438"
      },
      "execution_count": null,
      "outputs": [
        {
          "output_type": "stream",
          "name": "stdout",
          "text": [
            "[[1, 2.3, 'fpa', 4], [4, 5.4, 34], ['Two', 'One']]\n"
          ]
        }
      ]
    },
    {
      "cell_type": "markdown",
      "source": [
        "**Task:** 2 list is given, you have to add the value of indexes in a new list and print it.\n",
        "\n",
        "**example:**\n",
        "list1=[3,4,5,1]\n",
        "list2=[5,2,1,7]\n",
        "\n",
        "output: [8, 6, 6, 8]"
      ],
      "metadata": {
        "id": "4UGBQDIgPB1L"
      }
    },
    {
      "cell_type": "code",
      "source": [
        "def add_list(a,b):\n",
        "  x=len(a)\n",
        "  nl=[]\n",
        "  for i in range(0,x):\n",
        "    nl.append(a[i]+b[i])\n",
        "  return nl\n",
        "\n",
        "list1=[3,4,5,1]\n",
        "list2=[5,2,1,7]\n",
        "print(add_list(list1,list2))"
      ],
      "metadata": {
        "colab": {
          "base_uri": "https://localhost:8080/"
        },
        "id": "62VHFHpjKcnK",
        "outputId": "72487c13-89a1-404d-ec01-88b018b7ff07"
      },
      "execution_count": null,
      "outputs": [
        {
          "output_type": "stream",
          "name": "stdout",
          "text": [
            "[8, 6, 6, 8]\n"
          ]
        }
      ]
    },
    {
      "cell_type": "markdown",
      "source": [
        "# **Sets**"
      ],
      "metadata": {
        "id": "x7f8HbqiDs1X"
      }
    },
    {
      "cell_type": "code",
      "source": [
        "depts = {\"MBA\",\"EEE\",\"BBA\",\"ARCHI\"}\n",
        "depts.add('CS')\n",
        "\n",
        "print(depts)\n",
        "\n",
        "'CS' in depts"
      ],
      "metadata": {
        "colab": {
          "base_uri": "https://localhost:8080/"
        },
        "id": "GLu6LUKrD74q",
        "outputId": "10331d00-86c2-4f6b-fbb1-35e1734fb1d2"
      },
      "execution_count": null,
      "outputs": [
        {
          "output_type": "stream",
          "name": "stdout",
          "text": [
            "{'CS', 'MBA', 'EEE', 'BBA', 'ARCHI'}\n"
          ]
        },
        {
          "output_type": "execute_result",
          "data": {
            "text/plain": [
              "True"
            ]
          },
          "metadata": {},
          "execution_count": 25
        }
      ]
    },
    {
      "cell_type": "markdown",
      "source": [
        "# **Maps/Dictionaries/Hash Tables**"
      ],
      "metadata": {
        "id": "wt7QohZy98zc"
      }
    },
    {
      "cell_type": "code",
      "source": [
        "st={'sami':32,'rabbi':'l','kalam':7.6}\n",
        "print(type(st))\n",
        "print(st['rabbi'])"
      ],
      "metadata": {
        "colab": {
          "base_uri": "https://localhost:8080/"
        },
        "id": "R2VlRH7KK0Sa",
        "outputId": "9dd6eb44-898d-4b12-afda-a7a080b97c5f"
      },
      "execution_count": null,
      "outputs": [
        {
          "output_type": "stream",
          "name": "stdout",
          "text": [
            "<class 'dict'>\n",
            "l\n"
          ]
        }
      ]
    },
    {
      "cell_type": "code",
      "source": [
        "st.get('kalam', 'default')\n",
        "\n",
        "print(st.keys())\n",
        "\n",
        "print(st.values())"
      ],
      "metadata": {
        "colab": {
          "base_uri": "https://localhost:8080/"
        },
        "id": "G4f_7WyiMk8q",
        "outputId": "5721fdb9-7495-46f9-9699-cb0483e56709"
      },
      "execution_count": null,
      "outputs": [
        {
          "output_type": "stream",
          "name": "stdout",
          "text": [
            "dict_keys(['sami', 'rabbi', 'kalam'])\n",
            "dict_values([32, 'l', 7.6])\n"
          ]
        }
      ]
    },
    {
      "cell_type": "markdown",
      "source": [
        "# **Some Advance Operations**"
      ],
      "metadata": {
        "id": "usj8PCIw4Xko"
      }
    },
    {
      "cell_type": "markdown",
      "source": [
        "**Slicing Operator**"
      ],
      "metadata": {
        "id": "BseD2vag4ufX"
      }
    },
    {
      "cell_type": "code",
      "source": [
        "a=['k',3,5,'f',5]\n",
        "\n",
        "print(a[1:3])\n",
        "print(a[:2])\n",
        "print(a[3:-3])\n",
        "print(a[:-3])\n",
        "print(a[-1:-3])\n",
        "print(a[2:-2])#first one inclusive,last one exclusive"
      ],
      "metadata": {
        "colab": {
          "base_uri": "https://localhost:8080/"
        },
        "id": "JeNd_WmK4ot5",
        "outputId": "7ef9465f-811c-4513-ce1c-d9343cf04ba8"
      },
      "execution_count": null,
      "outputs": [
        {
          "output_type": "stream",
          "name": "stdout",
          "text": [
            "[3, 5]\n",
            "['k', 3]\n",
            "[]\n",
            "['k', 3]\n",
            "[]\n",
            "[]\n"
          ]
        }
      ]
    },
    {
      "cell_type": "markdown",
      "source": [
        "**Zip**"
      ],
      "metadata": {
        "id": "W5WjcRvz9C-a"
      }
    },
    {
      "cell_type": "code",
      "source": [
        "a=[8,3,5,4]\n",
        "b=[0,3,4,5,6]\n",
        "\n",
        "print(zip(a,b))\n",
        "print(list(zip(a,b))) #automatically detects the smaller one and zip it\n",
        "print()\n",
        "for a,b in zip(a,b):\n",
        "  print(f'{a} - {b}==>{a-b}')"
      ],
      "metadata": {
        "colab": {
          "base_uri": "https://localhost:8080/"
        },
        "id": "IoegDMjG7KXi",
        "outputId": "109560c2-270e-4a21-85cc-b4f0848f3529"
      },
      "execution_count": null,
      "outputs": [
        {
          "output_type": "stream",
          "name": "stdout",
          "text": [
            "<zip object at 0x79fe0709ee40>\n",
            "[(8, 0), (3, 3), (5, 4), (4, 5)]\n",
            "\n",
            "8 - 0==>8\n",
            "3 - 3==>0\n",
            "5 - 4==>1\n",
            "4 - 5==>-1\n"
          ]
        }
      ]
    },
    {
      "cell_type": "code",
      "source": [
        "arr1 = [0,1,2,3,4,5,6,7,8,9]\n",
        "arr2 = []\n",
        "# avoid doing this !!!!\n",
        "for a in arr1:\n",
        "    arr2.append(a**2)\n",
        "print(arr2)"
      ],
      "metadata": {
        "colab": {
          "base_uri": "https://localhost:8080/"
        },
        "id": "3TXkqvPX7Q-x",
        "outputId": "b0838c07-0860-4eb1-a681-1be53d9efa67"
      },
      "execution_count": null,
      "outputs": [
        {
          "output_type": "stream",
          "name": "stdout",
          "text": [
            "[0, 1, 4, 9, 16, 25, 36, 49, 64, 81]\n"
          ]
        }
      ]
    },
    {
      "cell_type": "markdown",
      "source": [
        "# **List Comprehension**"
      ],
      "metadata": {
        "id": "aO1OVmyt9e86"
      }
    },
    {
      "cell_type": "code",
      "source": [
        "arr1 = [0,6,2,32,4,5,6,7,8,9]\n",
        "\n",
        "arr1_copy=[i for i in arr1]\n",
        "print(arr1_copy)\n",
        "\n",
        "\n",
        "sq=[i*2 for i in arr1]\n",
        "print(sq)\n",
        "\n",
        "sq_even=[i*2 for i in arr1 if i%2==0]\n",
        "print(sq_even)\n",
        "\n",
        "print()\n",
        "\n",
        "d = {(a,a): (a,a**2) for a in range(10)}\n",
        "print(d)\n",
        "print()\n",
        "\n",
        "print(d[(5,5)])"
      ],
      "metadata": {
        "colab": {
          "base_uri": "https://localhost:8080/"
        },
        "id": "iCYMklu49vNJ",
        "outputId": "618fefca-e73c-44fc-f1cb-aeb9680a9bf8"
      },
      "execution_count": null,
      "outputs": [
        {
          "output_type": "stream",
          "name": "stdout",
          "text": [
            "[0, 6, 2, 32, 4, 5, 6, 7, 8, 9]\n",
            "[0, 12, 4, 64, 8, 10, 12, 14, 16, 18]\n",
            "[0, 12, 4, 64, 8, 12, 16]\n",
            "\n",
            "{(0, 0): (0, 0), (1, 1): (1, 1), (2, 2): (2, 4), (3, 3): (3, 9), (4, 4): (4, 16), (5, 5): (5, 25), (6, 6): (6, 36), (7, 7): (7, 49), (8, 8): (8, 64), (9, 9): (9, 81)}\n",
            "\n",
            "(5, 25)\n"
          ]
        }
      ]
    }
  ]
}