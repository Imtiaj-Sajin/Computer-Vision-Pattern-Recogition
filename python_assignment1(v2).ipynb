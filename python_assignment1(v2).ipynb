{
  "cells": [
    {
      "cell_type": "markdown",
      "metadata": {
        "id": "8K50_SR_e9Fm"
      },
      "source": [
        "# **List Operations:**"
      ]
    },
    {
      "cell_type": "code",
      "execution_count": 1,
      "metadata": {
        "colab": {
          "base_uri": "https://localhost:8080/",
          "height": 262
        },
        "id": "D5-lj9Pne1s4",
        "outputId": "2645a473-5e55-441f-ca16-827570a96998"
      },
      "outputs": [
        {
          "name": "stdout",
          "output_type": "stream",
          "text": [
            "List:[1, 2, 3, 4, 5, 6, 7, 8, 9, 10]\n",
            "New List:[1, 2, 3, 4, 5, 6, 7, 8, 9, 10, 1, 4, 9, 16, 25, 36, 49, 64, 81, 100]\n",
            "Sum:440\n"
          ]
        }
      ],
      "source": [
        "#Create a list of integers containing numbers from 1 to 10.\n",
        "l=list(range(1, 11))\n",
        "print(f'List:{l}')\n",
        "\n",
        "#• Append the square of each number to the list.\n",
        "\n",
        "sq = [a**2 for a in l]\n",
        "for x in sq:\n",
        "    l.append(x )\n",
        "print(f'New List:{l}')\n",
        "\n",
        "\n",
        "#• Find and print the sum of all elements in the list.\n",
        "Sum= sum(l) #killed my time, but running on online\n",
        "print(f'Sum:{Sum}')\n"
      ]
    },
    {
      "cell_type": "markdown",
      "metadata": {
        "id": "yUwCniorpZ8I"
      },
      "source": [
        "# Touple"
      ]
    },
    {
      "cell_type": "code",
      "execution_count": 4,
      "metadata": {
        "colab": {
          "base_uri": "https://localhost:8080/"
        },
        "id": "g4TV1mO9oa04",
        "outputId": "c6a8db45-256b-4ad1-8312-884d6d20a728"
      },
      "outputs": [
        {
          "name": "stdout",
          "output_type": "stream",
          "text": [
            "even:(2, 4, 6, 8, 10)\n",
            "Product:3840\n"
          ]
        }
      ],
      "source": [
        "\n",
        "#• Create a tuple containing the first five even numbers.\n",
        "even = tuple(x for x in range(1, 11) if x % 2 == 0)\n",
        "print(f'even:{even}')\n",
        "\n",
        "\n",
        "#• Find and print the product of all elements in the tuple.\n",
        "product = 1\n",
        "for x in even:\n",
        "    product *= x\n",
        "\n",
        "print(f'Product:{product}')\n"
      ]
    },
    {
      "cell_type": "markdown",
      "metadata": {
        "id": "E2FlJLRMquJq"
      },
      "source": [
        "# Set Operations:\n"
      ]
    },
    {
      "cell_type": "code",
      "execution_count": 5,
      "metadata": {
        "colab": {
          "base_uri": "https://localhost:8080/"
        },
        "id": "NW_jG8BUpKvA",
        "outputId": "2205d731-dfd4-494a-8be9-a1bec8a34b0a"
      },
      "outputs": [
        {
          "name": "stdout",
          "output_type": "stream",
          "text": [
            "{1, 3, 5, 7, 9}\n",
            "(3, 9, 7)\n",
            "Union:{1, 3, 5, 7, 9}\n",
            "Intersection :{9, 3, 7}\n"
          ]
        }
      ],
      "source": [
        "#• Create two sets of odd numbers between 1 to 10.\n",
        "odd1 = set(x for x in range(1, 11) if x % 2 != 0)\n",
        "odd2 = (3,9,7)\n",
        "\n",
        "print(odd1)\n",
        "print(odd2)\n",
        "#• Find and print the union of the two sets.\n",
        "\n",
        "print(f'Union:{odd1.union(odd2)}')\n",
        "\n",
        "#• Find and print the intersection of the two sets.\n",
        "print(f'Intersection :{odd1.intersection(odd2)}')\n"
      ]
    },
    {
      "cell_type": "markdown",
      "metadata": {
        "id": "HLfBFM-mvHIu"
      },
      "source": [
        "# Dictionary Operations:\n"
      ]
    },
    {
      "cell_type": "code",
      "execution_count": 69,
      "metadata": {
        "colab": {
          "base_uri": "https://localhost:8080/"
        },
        "id": "kny6X4QIrxUA",
        "outputId": "8ac87a9d-874a-44ae-93f1-ffcdad2a89d0"
      },
      "outputs": [
        {
          "name": "stdout",
          "output_type": "stream",
          "text": [
            "Dictionary: {'a': 97, 'b': 98, 'c': 99, 'd': 100, 'e': 101}\n"
          ]
        }
      ],
      "source": [
        "#Create a dictionary where keys are the first five lowercase alphabets and values are their\n",
        "#respective ASCII values.\n",
        "# Create a dictionary where keys are the first five lowercase alphabets and values are their respective ASCII values\n",
        "dict = {'a':97,'b':98,'c':99,'d':100,'e':101}\n",
        "\n",
        "# Print the dictionary\n",
        "print(\"Dictionary:\", dict)\n",
        "\n"
      ]
    },
    {
      "cell_type": "markdown",
      "metadata": {
        "id": "lgrVzhqKvDRn"
      },
      "source": [
        "# Functional Programming:"
      ]
    },
    {
      "cell_type": "code",
      "execution_count": 6,
      "metadata": {
        "colab": {
          "base_uri": "https://localhost:8080/"
        },
        "id": "OjZBAj-StNrZ",
        "outputId": "02c0f904-d32a-4fb1-eb03-45285a316f5d"
      },
      "outputs": [
        {
          "name": "stdout",
          "output_type": "stream",
          "text": [
            "Squared numbers: [1, 4, 9, 16, 25, 36, 49, 64, 81, 100]\n"
          ]
        }
      ],
      "source": [
        "#• Define a function square(x) that returns the square of x.\n",
        "def square(x):\n",
        "  return x*x\n",
        "\n",
        "#Use the map function to apply the square function to each element in a list of integers from\n",
        "#1 to 10 and print the result.\n",
        "\n",
        "l = list(range(1, 11))\n",
        "sq = list(map(square, l))\n",
        "print(\"Squared numbers:\", sq)\n"
      ]
    },
    {
      "cell_type": "code",
      "execution_count": null,
      "metadata": {
        "id": "8humosXMuDav"
      },
      "outputs": [],
      "source": []
    }
  ],
  "metadata": {
    "colab": {
      "provenance": []
    },
    "kernelspec": {
      "display_name": "Python 3",
      "name": "python3"
    },
    "language_info": {
      "codemirror_mode": {
        "name": "ipython",
        "version": 3
      },
      "file_extension": ".py",
      "mimetype": "text/x-python",
      "name": "python",
      "nbconvert_exporter": "python",
      "pygments_lexer": "ipython3",
      "version": "3.11.3"
    }
  },
  "nbformat": 4,
  "nbformat_minor": 0
}
