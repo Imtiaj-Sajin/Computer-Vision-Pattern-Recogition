{
  "nbformat": 4,
  "nbformat_minor": 0,
  "metadata": {
    "colab": {
      "provenance": [],
      "authorship_tag": "ABX9TyMDwWCBoKOK0SisDUlE3mna",
      "include_colab_link": true
    },
    "kernelspec": {
      "name": "python3",
      "display_name": "Python 3"
    },
    "language_info": {
      "name": "python"
    }
  },
  "cells": [
    {
      "cell_type": "markdown",
      "metadata": {
        "id": "view-in-github",
        "colab_type": "text"
      },
      "source": [
        "<a href=\"https://colab.research.google.com/github/Imtiaj-Sajin/Computer-Vision-Pattern-Recogition/blob/main/python_assignment.ipynb\" target=\"_parent\"><img src=\"https://colab.research.google.com/assets/colab-badge.svg\" alt=\"Open In Colab\"/></a>"
      ]
    },
    {
      "cell_type": "markdown",
      "source": [
        "# **List Operations:**"
      ],
      "metadata": {
        "id": "8K50_SR_e9Fm"
      }
    },
    {
      "cell_type": "code",
      "execution_count": 62,
      "metadata": {
        "colab": {
          "base_uri": "https://localhost:8080/"
        },
        "id": "D5-lj9Pne1s4",
        "outputId": "d7216d00-89d9-4295-de42-2c65975bd4de"
      },
      "outputs": [
        {
          "output_type": "stream",
          "name": "stdout",
          "text": [
            "List:[1, 2, 3, 4, 5, 6, 7, 8, 9, 10]\n",
            "New List:[1, 2, 3, 4, 5, 6, 7, 8, 9, 10, 1, 4, 9, 16, 25, 36, 49, 64, 81, 100]\n"
          ]
        }
      ],
      "source": [
        "#Create a list of integers containing numbers from 1 to 10.\n",
        "l=list(range(1, 11))\n",
        "print(f'List:{l}')\n",
        "\n",
        "#• Append the square of each number to the list.\n",
        "\n",
        "sq = [a**2 for a in l]\n",
        "for x in sq:\n",
        "    l.append(x )\n",
        "print(f'New List:{l}')\n",
        "\n",
        "\n",
        "#• Find and print the sum of all elements in the list.\n",
        "#Sum= sum(l) #killed my time, but running on online\n",
        "#print(Sum)\n"
      ]
    },
    {
      "cell_type": "markdown",
      "source": [
        "# Touple"
      ],
      "metadata": {
        "id": "yUwCniorpZ8I"
      }
    },
    {
      "cell_type": "code",
      "source": [
        "\n",
        "#• Create a tuple containing the first five even numbers.\n",
        "even = tuple(x for x in range(1, 11) if x % 2 == 0)\n",
        "print(f'even:{even}')\n",
        "\n",
        "\n",
        "#• Find and print the product of all elements in the tuple.\n",
        "product = 1\n",
        "for x in even:\n",
        "    product *= x\n",
        "\n",
        "print(f'Product:{product}')\n"
      ],
      "metadata": {
        "colab": {
          "base_uri": "https://localhost:8080/"
        },
        "id": "g4TV1mO9oa04",
        "outputId": "c6a8db45-256b-4ad1-8312-884d6d20a728"
      },
      "execution_count": 63,
      "outputs": [
        {
          "output_type": "stream",
          "name": "stdout",
          "text": [
            "even:(2, 4, 6, 8, 10)\n",
            "Product:3840\n"
          ]
        }
      ]
    },
    {
      "cell_type": "markdown",
      "source": [
        "# Set Operations:\n"
      ],
      "metadata": {
        "id": "E2FlJLRMquJq"
      }
    },
    {
      "cell_type": "code",
      "source": [
        "#• Create two sets of odd numbers between 1 to 10.\n",
        "odd1 = set(x for x in range(1, 11) if x % 2 != 0)\n",
        "odd2 = (3,9,7)\n",
        "\n",
        "print(odd1)\n",
        "print(odd2)\n",
        "#• Find and print the union of the two sets.\n",
        "\n",
        "print(f'Union:{odd1.union(odd2)}')\n",
        "\n",
        "#• Find and print the intersection of the two sets.\n",
        "print(f'Intersection :{odd1.intersection(odd2)}')\n"
      ],
      "metadata": {
        "colab": {
          "base_uri": "https://localhost:8080/"
        },
        "id": "NW_jG8BUpKvA",
        "outputId": "2205d731-dfd4-494a-8be9-a1bec8a34b0a"
      },
      "execution_count": 64,
      "outputs": [
        {
          "output_type": "stream",
          "name": "stdout",
          "text": [
            "{1, 3, 5, 7, 9}\n",
            "(3, 9, 7)\n",
            "Union:{1, 3, 5, 7, 9}\n",
            "Intersection :{9, 3, 7}\n"
          ]
        }
      ]
    },
    {
      "cell_type": "code",
      "source": [
        "#Create a dictionary where keys are the first five lowercase alphabets and values are their\n",
        "#respective ASCII values.\n",
        "\n"
      ],
      "metadata": {
        "id": "kny6X4QIrxUA"
      },
      "execution_count": 65,
      "outputs": []
    }
  ]
}