{
  "nbformat": 4,
  "nbformat_minor": 0,
  "metadata": {
    "colab": {
      "provenance": [],
      "authorship_tag": "ABX9TyOqO3kC7qzcSQ/ifvi9wKw7",
      "include_colab_link": true
    },
    "kernelspec": {
      "name": "python3",
      "display_name": "Python 3"
    },
    "language_info": {
      "name": "python"
    }
  },
  "cells": [
    {
      "cell_type": "markdown",
      "metadata": {
        "id": "view-in-github",
        "colab_type": "text"
      },
      "source": [
        "<a href=\"https://colab.research.google.com/github/Imtiaj-Sajin/Computer-Vision-Pattern-Recogition/blob/main/Numpy.ipynb\" target=\"_parent\"><img src=\"https://colab.research.google.com/assets/colab-badge.svg\" alt=\"Open In Colab\"/></a>"
      ]
    },
    {
      "cell_type": "markdown",
      "source": [
        "# **Numpy**"
      ],
      "metadata": {
        "id": "0r6VSdBwrOJr"
      }
    },
    {
      "cell_type": "markdown",
      "source": [
        "**Arrays**"
      ],
      "metadata": {
        "id": "Kqh5RIA7s93z"
      }
    },
    {
      "cell_type": "code",
      "source": [
        "import numpy as np\n",
        "\n",
        "\n",
        "a = np.array([1, 5,6, 3])   # Rank 1 array/Vector\n",
        "print(type(a))\n",
        "\n",
        "print(a.shape) #For vector it returns (Number of Elements,nothing)\n",
        "\n",
        "print(a[0],a[1],a[3])\n",
        "\n",
        "print(a)\n",
        "a[0]=5\n",
        "a[2]=5\n",
        "a[3]=5\n",
        "\n",
        "print(a)\n",
        "\n",
        "b=np.array([[1,2,3,8],[9,8,4,0]]) #Rank 2 array/Matrix\n",
        "\n",
        "print(b)\n",
        "print(b.shape) #For Matrix it returns: (Rows,Columns)\n",
        "print(b[1,3])"
      ],
      "metadata": {
        "id": "BZsv-ZuPvy9D",
        "outputId": "02381a4c-75c4-434c-86f9-657b2ccf37d8",
        "colab": {
          "base_uri": "https://localhost:8080/"
        }
      },
      "execution_count": null,
      "outputs": [
        {
          "output_type": "stream",
          "name": "stdout",
          "text": [
            "<class 'numpy.ndarray'>\n",
            "(4,)\n",
            "1 5 3\n",
            "[1 5 6 3]\n",
            "[5 5 5 5]\n",
            "[[1 2 3 8]\n",
            " [9 8 4 0]]\n",
            "(2, 4)\n",
            "0\n"
          ]
        }
      ]
    },
    {
      "cell_type": "markdown",
      "source": [
        "### **Creating Different Array**"
      ],
      "metadata": {
        "id": "MU9U0bbIDru_"
      }
    },
    {
      "cell_type": "code",
      "source": [
        "a=np.zeros((3,2))\n",
        "print(a)\n",
        "print(a.shape)\n",
        "\n",
        "b = np.ones((2,2))\n",
        "print(b)"
      ],
      "metadata": {
        "colab": {
          "base_uri": "https://localhost:8080/"
        },
        "id": "5neq8quO7Lxm",
        "outputId": "02b27b62-bc38-456e-b3c2-93b20ee5a7d0"
      },
      "execution_count": null,
      "outputs": [
        {
          "output_type": "stream",
          "name": "stdout",
          "text": [
            "[[0. 0.]\n",
            " [0. 0.]\n",
            " [0. 0.]]\n",
            "(3, 2)\n",
            "[[1. 1.]\n",
            " [1. 1.]]\n"
          ]
        }
      ]
    },
    {
      "cell_type": "code",
      "source": [
        "a = np.array([[1,2], [3, 4], [5, 6]])\n",
        "\n",
        "# An example of integer array indexing.\n",
        "# The returned array will have shape (3,) and\n",
        "print(a[[0, 1, 2], [0, 1, 0]])  # Prints \"[1 4 5]\""
      ],
      "metadata": {
        "colab": {
          "base_uri": "https://localhost:8080/"
        },
        "id": "DDvZXtMrQfhz",
        "outputId": "0029fa2b-505e-408c-9a60-dffb5c93d8f3"
      },
      "execution_count": null,
      "outputs": [
        {
          "output_type": "stream",
          "name": "stdout",
          "text": [
            "[1 4 5]\n"
          ]
        }
      ]
    }
  ]
}